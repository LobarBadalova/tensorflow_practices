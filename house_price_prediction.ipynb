{
  "nbformat": 4,
  "nbformat_minor": 0,
  "metadata": {
    "colab": {
      "name": "house_price_prediction.ipynb",
      "provenance": [],
      "collapsed_sections": [],
      "authorship_tag": "ABX9TyOjDjG/3z83HPIuxuU6PRTk",
      "include_colab_link": true
    },
    "kernelspec": {
      "name": "python3",
      "display_name": "Python 3"
    }
  },
  "cells": [
    {
      "cell_type": "markdown",
      "metadata": {
        "id": "view-in-github",
        "colab_type": "text"
      },
      "source": [
        "<a href=\"https://colab.research.google.com/github/LobarBadalova/LobarFayzullaeva/blob/master/house_price_prediction.ipynb\" target=\"_parent\"><img src=\"https://colab.research.google.com/assets/colab-badge.svg\" alt=\"Open In Colab\"/></a>"
      ]
    },
    {
      "cell_type": "code",
      "metadata": {
        "id": "guAdg7zjl13R",
        "colab_type": "code",
        "colab": {
          "base_uri": "https://localhost:8080/",
          "height": 92
        },
        "outputId": "d270c005-fecb-42e6-d48c-7a0c3cadbf72"
      },
      "source": [
        "import tensorflow.compat.v1 as tf\n",
        "tf.disable_v2_behavior()\n",
        "import numpy as np\n",
        "import math\n",
        "import matplotlib.pyplot as plt\n",
        "import matplotlib.animation as animation\n"
      ],
      "execution_count": 13,
      "outputs": [
        {
          "output_type": "stream",
          "text": [
            "WARNING:tensorflow:From /usr/local/lib/python3.6/dist-packages/tensorflow/python/compat/v2_compat.py:96: disable_resource_variables (from tensorflow.python.ops.variable_scope) is deprecated and will be removed in a future version.\n",
            "Instructions for updating:\n",
            "non-resource variables are not supported in the long term\n"
          ],
          "name": "stdout"
        }
      ]
    },
    {
      "cell_type": "code",
      "metadata": {
        "id": "XhtlnI_Ll90-",
        "colab_type": "code",
        "colab": {}
      },
      "source": [
        "num_house=160\n",
        "np.random.seed(42)\n",
        "house_size=np.random.randint(low=1000, high=3500, size=num_house)\n",
        "\n",
        "#house_size_generation\n"
      ],
      "execution_count": 0,
      "outputs": []
    },
    {
      "cell_type": "code",
      "metadata": {
        "id": "BUOSNAFVm671",
        "colab_type": "code",
        "colab": {}
      },
      "source": [
        "#house_price_generation\n",
        "np.random.seed(42)\n",
        "house_price=house_size*100.0+np.random.randint(low=2000, high=7000, size=num_house)\n"
      ],
      "execution_count": 0,
      "outputs": []
    },
    {
      "cell_type": "code",
      "metadata": {
        "id": "O_G9EQz8nZun",
        "colab_type": "code",
        "colab": {
          "base_uri": "https://localhost:8080/",
          "height": 297
        },
        "outputId": "50dceee0-259b-400b-8a13-03ea0ca19147"
      },
      "source": [
        "plt.plot(house_size, house_price, 'bx')\n",
        "plt.ylabel(\"Price\")\n",
        "plt.xlabel(\"Size\")\n"
      ],
      "execution_count": 7,
      "outputs": [
        {
          "output_type": "execute_result",
          "data": {
            "text/plain": [
              "Text(0.5, 0, 'Size')"
            ]
          },
          "metadata": {
            "tags": []
          },
          "execution_count": 7
        },
        {
          "output_type": "display_data",
          "data": {
            "image/png": "[encoded data removed]",
            "text/plain": [
              "<Figure size 432x288 with 1 Axes>"
            ]
          },
          "metadata": {
            "tags": [],
            "needs_background": "light"
          }
        }
      ]
    },
    {
      "cell_type": "code",
      "metadata": {
        "id": "kSUh6I80nu97",
        "colab_type": "code",
        "colab": {}
      },
      "source": [
        "#normalize:\n",
        "def normalize(array):\n",
        "  return (array-array.mean())/array.std()\n"
      ],
      "execution_count": 0,
      "outputs": []
    },
    {
      "cell_type": "code",
      "metadata": {
        "id": "rVmFlpQBoLKR",
        "colab_type": "code",
        "colab": {}
      },
      "source": [
        "#split data two training and testing model and normalize\n",
        "num_train_samples=math.floor(num_house*0.7)\n",
        "\n",
        "train_house_size=np.asarray(house_size[:num_train_samples])\n",
        "train_house_price=np.asarray(house_price[num_train_samples:])\n",
        "\n",
        "train_house_size_norm=normalize(train_house_size)\n",
        "train_house_price_norm=normalize(train_house_price)\n",
        "\n",
        "\n",
        "test_house_size=np.asarray(house_size[num_train_samples:])\n",
        "test_house_price=np.asarray(house_price[:num_train_samples])\n",
        "\n",
        "test_house_size_norm=normalize(test_house_size)\n",
        "test_house_price_norm=normalize(test_house_price)\n"
      ],
      "execution_count": 0,
      "outputs": []
    },
    {
      "cell_type": "code",
      "metadata": {
        "id": "sjApnw4xp_0n",
        "colab_type": "code",
        "colab": {}
      },
      "source": [
        "tf_house_size=tf.placeholder('float', name=\"house_size\")\n",
        "tf_house_price=tf.placeholder('float', name=\"house_price\")\n"
      ],
      "execution_count": 0,
      "outputs": []
    },
    {
      "cell_type": "code",
      "metadata": {
        "id": "Uy9sRZ8rqkt4",
        "colab_type": "code",
        "colab": {}
      },
      "source": [
        ""
      ],
      "execution_count": 0,
      "outputs": []
    }
  ]
}